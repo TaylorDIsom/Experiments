{
 "cells": [
  {
   "cell_type": "code",
   "execution_count": 2,
   "metadata": {},
   "outputs": [],
   "source": [
    "# imports\n",
    "\n",
    "import nltk\n",
    "from nltk.corpus import brown\n",
    "import pandas as pd\n",
    "import tensorflow as tf"
   ]
  },
  {
   "cell_type": "code",
   "execution_count": 7,
   "metadata": {},
   "outputs": [],
   "source": [
    "# this file labels words as 1='accepted' or 0='rejected'\n",
    "\n",
    "def get_word_label(word):\n",
    "    if len(word) > 1:\n",
    "        prev_char = word[0]\n",
    "        for index in range(1,len(word)):\n",
    "            char = word[index]\n",
    "            if char == prev_char:\n",
    "                return 1\n",
    "            prev_char = char\n",
    "    return 0\n",
    "\n",
    "def get_labels(words):\n",
    "    return [get_word_label(word) for word in words]"
   ]
  },
  {
   "cell_type": "code",
   "execution_count": 8,
   "metadata": {},
   "outputs": [
    {
     "name": "stdout",
     "output_type": "stream",
     "text": [
      "pp 1\n"
     ]
    }
   ],
   "source": [
    "# w = 'pp'\n",
    "# l = get_word_label(w)\n",
    "# print(w, l)"
   ]
  },
  {
   "cell_type": "code",
   "execution_count": 9,
   "metadata": {},
   "outputs": [
    {
     "name": "stdout",
     "output_type": "stream",
     "text": [
      "[1, 0, 1]\n"
     ]
    }
   ],
   "source": [
    "words = ['poop', 'pop', 'pp']\n",
    "labels = get_labels(words)\n",
    "print(labels)"
   ]
  },
  {
   "cell_type": "code",
   "execution_count": 44,
   "metadata": {},
   "outputs": [
    {
     "name": "stdout",
     "output_type": "stream",
     "text": [
      "15566\n"
     ]
    }
   ],
   "source": [
    "words = brown.words()[1000000:2000000]\n",
    "words = set(words)\n",
    "print(len(words))"
   ]
  },
  {
   "cell_type": "code",
   "execution_count": 51,
   "metadata": {},
   "outputs": [
    {
     "name": "stdout",
     "output_type": "stream",
     "text": [
      "108032 51975\n"
     ]
    },
    {
     "data": {
      "text/plain": [
       "160007"
      ]
     },
     "execution_count": 51,
     "metadata": {},
     "output_type": "execute_result"
    }
   ],
   "source": [
    "print(len(words), len(word_set))\n",
    "big_set = list(words) + list(word_set)\n",
    "len(big_set)"
   ]
  },
  {
   "cell_type": "code",
   "execution_count": 52,
   "metadata": {},
   "outputs": [],
   "source": [
    "word_set = big_set\n"
   ]
  },
  {
   "cell_type": "code",
   "execution_count": 53,
   "metadata": {},
   "outputs": [],
   "source": [
    "labels = get_labels(big_set)\n",
    "# print(labels)"
   ]
  },
  {
   "cell_type": "code",
   "execution_count": 55,
   "metadata": {},
   "outputs": [],
   "source": [
    "ggd_dict = {'word':big_set, 'label':labels}\n",
    "df = pd.DataFrame(ggd_dict)"
   ]
  },
  {
   "cell_type": "code",
   "execution_count": 56,
   "metadata": {},
   "outputs": [
    {
     "name": "stdout",
     "output_type": "stream",
     "text": [
      "               word  label\n",
      "0             crows      0\n",
      "1          concedes      0\n",
      "2          declined      0\n",
      "3       ambivalence      0\n",
      "4         Brassnose      1\n",
      "...             ...    ...\n",
      "160002       myrtle      0\n",
      "160003     serratus      1\n",
      "160004  accomplices      1\n",
      "160005       trials      0\n",
      "160006       growth      0\n",
      "\n",
      "[160007 rows x 2 columns]\n"
     ]
    }
   ],
   "source": [
    "print(df)"
   ]
  },
  {
   "cell_type": "code",
   "execution_count": 57,
   "metadata": {},
   "outputs": [],
   "source": [
    "df.to_csv(\"ggd.csv\")"
   ]
  },
  {
   "cell_type": "code",
   "execution_count": null,
   "metadata": {},
   "outputs": [],
   "source": []
  },
  {
   "cell_type": "code",
   "execution_count": 8,
   "metadata": {},
   "outputs": [],
   "source": [
    "# load the data\n",
    "# https://www.tensorflow.org/guide/data\n",
    "# https://www.tensorflow.org/tutorials/load_data/text\n"
   ]
  },
  {
   "cell_type": "code",
   "execution_count": null,
   "metadata": {},
   "outputs": [],
   "source": [
    "# feature extraction\n",
    "# using the Bag of Words concept, create a Bag of Letters\n",
    "# using the alphabet as the vocabulary of unique Letters\n",
    "# *** I don't know if this would work in a way to preserve letter order\n",
    "# **maybe it could with an n-gram / bigram\n",
    "# need to try to convert word embedding into letter embedding to preserve order\n",
    "# could try a continuous bag of words approach\n",
    "# \n",
    "# "
   ]
  },
  {
   "cell_type": "code",
   "execution_count": 7,
   "metadata": {},
   "outputs": [],
   "source": [
    "# randomizing the data\n",
    "\n"
   ]
  },
  {
   "cell_type": "code",
   "execution_count": null,
   "metadata": {},
   "outputs": [],
   "source": [
    "# splitting data into training and test sets\n"
   ]
  },
  {
   "cell_type": "code",
   "execution_count": null,
   "metadata": {},
   "outputs": [],
   "source": [
    "# making a model to classify words\n"
   ]
  },
  {
   "cell_type": "code",
   "execution_count": null,
   "metadata": {},
   "outputs": [],
   "source": [
    "# training the model\n"
   ]
  },
  {
   "cell_type": "code",
   "execution_count": null,
   "metadata": {},
   "outputs": [],
   "source": []
  },
  {
   "cell_type": "code",
   "execution_count": null,
   "metadata": {},
   "outputs": [],
   "source": [
    "# testing the model"
   ]
  }
 ],
 "metadata": {
  "kernelspec": {
   "display_name": "Python 3",
   "language": "python",
   "name": "python3"
  },
  "language_info": {
   "codemirror_mode": {
    "name": "ipython",
    "version": 3
   },
   "file_extension": ".py",
   "mimetype": "text/x-python",
   "name": "python",
   "nbconvert_exporter": "python",
   "pygments_lexer": "ipython3",
   "version": "3.6.8rc1"
  }
 },
 "nbformat": 4,
 "nbformat_minor": 4
}
