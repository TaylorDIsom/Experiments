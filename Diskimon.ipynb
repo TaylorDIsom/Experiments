{
 "cells": [
  {
   "cell_type": "code",
   "execution_count": 23,
   "metadata": {},
   "outputs": [],
   "source": [
    "# Riddle: youtube.com/watch?v=rn1mjuVXNEI&ab_channel=TED-Ed"
   ]
  },
  {
   "cell_type": "code",
   "execution_count": null,
   "metadata": {},
   "outputs": [],
   "source": []
  },
  {
   "cell_type": "code",
   "execution_count": 57,
   "metadata": {},
   "outputs": [],
   "source": [
    "'''\n",
    "Rules:\n",
    "1. you get to choose a disk first. your opponent will then choose one of the remaining disks.\n",
    "2. the higher-level diskymon always wins.\n",
    "3. there is nothing you can do to change the disk's probabilities.\n",
    "'''\n",
    "\n",
    "A = {\n",
    "    3: 1\n",
    "}\n",
    "\n",
    "B = {\n",
    "    2: .56,\n",
    "    4: .22,\n",
    "    6: .22\n",
    "}\n",
    "\n",
    "C = {\n",
    "    1: .51,\n",
    "    5: .49\n",
    "}"
   ]
  },
  {
   "cell_type": "code",
   "execution_count": 68,
   "metadata": {},
   "outputs": [],
   "source": [
    "def get_disk_expected_value(prob_distribution):\n",
    "    expected_value = 0\n",
    "    for k, v in prob_distribution.items():\n",
    "        prob_value = k * v\n",
    "        expected_value += prob_value\n",
    "        print(k,v,prob_value, expected_value)\n",
    "    print()\n",
    "    return expected_value\n"
   ]
  },
  {
   "cell_type": "code",
   "execution_count": 69,
   "metadata": {},
   "outputs": [
    {
     "name": "stdout",
     "output_type": "stream",
     "text": [
      "3 1 3 3\n",
      "\n",
      "2 0.56 1.12 1.12\n",
      "4 0.22 0.88 2.0\n",
      "6 0.22 1.32 3.3200000000000003\n",
      "\n",
      "1 0.51 0.51 0.51\n",
      "5 0.49 2.45 2.96\n",
      "\n"
     ]
    }
   ],
   "source": [
    "value_A = get_disk_expected_value(A)\n",
    "value_B = get_disk_expected_value(B)\n",
    "value_C = get_disk_expected_value(C)\n"
   ]
  },
  {
   "cell_type": "code",
   "execution_count": 62,
   "metadata": {},
   "outputs": [
    {
     "name": "stdout",
     "output_type": "stream",
     "text": [
      "3.0 1.1066666666666667 1.48\n"
     ]
    }
   ],
   "source": [
    "print(value_A, value_B, value_C)"
   ]
  },
  {
   "cell_type": "code",
   "execution_count": 63,
   "metadata": {},
   "outputs": [],
   "source": [
    "# This was overkill, the mostlikely values are A is 3, B is 2 and C is 1, so we pick A since it is mostlikely to have the highest value. Weighted averages will not help in this situation becuase there is 1 round and 1 opponent, so you only need something that will win more often than the others. since B = 2, and C = 1, will never win, those values aren't valuable, and can be ignored. But if we're going to ignore values, then it seems like we may as well just calculate the winning "
   ]
  },
  {
   "cell_type": "code",
   "execution_count": 79,
   "metadata": {},
   "outputs": [],
   "source": [
    "# Disk avgs\n",
    "A_avg = 3 / 1\n",
    "B_avg = (2 + 4 + 6) / (1 + 1 + 1)\n",
    "C_avg = (1 + 5) / (1 + 1)\n",
    "\n",
    "# Disk weighted avgs\n",
    "A_avg_weighted = (3 * 1) / (1)\n",
    "B_avg_weighted = (2*.56 + 4*.22 + 6*.22) / (.56 + .22 + .22)\n",
    "C_avg_weighted = (1*.51 + 5*.49) / (.51 + .49)\n",
    "B_avg_weighted = ( 4*.22 + 6*.22)\n",
    "C_avg_weighted = ( 5*.49) "
   ]
  },
  {
   "cell_type": "code",
   "execution_count": 80,
   "metadata": {},
   "outputs": [
    {
     "name": "stdout",
     "output_type": "stream",
     "text": [
      "3.0 4.0 3.0\n",
      "3.0 2.2 2.45\n"
     ]
    }
   ],
   "source": [
    "print(A_avg, B_avg, C_avg)\n",
    "print(A_avg_weighted, B_avg_weighted, C_avg_weighted)"
   ]
  },
  {
   "cell_type": "code",
   "execution_count": 64,
   "metadata": {},
   "outputs": [
    {
     "data": {
      "text/plain": [
       "\"\\nNew Rule:\\n4. You'll face two opponents at the same time, using the other two disks. The highest-level diskimon among all three wins.\\n\""
      ]
     },
     "execution_count": 64,
     "metadata": {},
     "output_type": "execute_result"
    }
   ],
   "source": [
    "'''\n",
    "New Rule:\n",
    "4. You'll face two opponents at the same time, using the other two disks. The highest-level diskimon among all three wins.\n",
    "'''"
   ]
  },
  {
   "cell_type": "code",
   "execution_count": 65,
   "metadata": {},
   "outputs": [],
   "source": [
    "# need to calculate the prob of each disk winning in 1 vs. 2\n",
    "\n",
    "# when A is 3, it wins if B is 2 and C is 1\n",
    "A3_win_prob = B[2] * C[1]\n",
    "\n",
    "A_win_prob = A3_win_prob\n",
    "\n",
    "\n",
    "# when B is 2, it always loses to A\n",
    "B2_win_prob = 0\n",
    "\n",
    "# when B is 4, it wins if A is 3 and C is 1\n",
    "B4_win_prob = A[3] * C[1]\n",
    "\n",
    "# when B is 6, it wins if A is 3 and C is 1 or C is 5\n",
    "B6_win_prob = A[3] * (C[1] + C[5])\n",
    "\n",
    "B_win_prob = B4_win_prob * B6_win_prob\n",
    "\n",
    "\n",
    "# when C is 1, it always loses to A\n",
    "C1_win_prob = 0\n",
    "\n",
    "# when C is 5, it wins if A is 3 and B is 2 or B is 4\n",
    "C5_win_prob = A[3] * (B[2] + B[4])\n",
    "\n",
    "C_win_prob = C5_win_prob\n"
   ]
  },
  {
   "cell_type": "code",
   "execution_count": 66,
   "metadata": {},
   "outputs": [
    {
     "name": "stdout",
     "output_type": "stream",
     "text": [
      "0.2856 0.51 0.78\n"
     ]
    }
   ],
   "source": [
    "print(A_win_prob, B_win_prob, C_win_prob)\n"
   ]
  },
  {
   "cell_type": "code",
   "execution_count": 67,
   "metadata": {},
   "outputs": [],
   "source": [
    "# C has the highest chance of winning 1 vs 2."
   ]
  },
  {
   "cell_type": "code",
   "execution_count": null,
   "metadata": {},
   "outputs": [],
   "source": []
  }
 ],
 "metadata": {
  "kernelspec": {
   "display_name": "Python 3",
   "language": "python",
   "name": "python3"
  },
  "language_info": {
   "codemirror_mode": {
    "name": "ipython",
    "version": 3
   },
   "file_extension": ".py",
   "mimetype": "text/x-python",
   "name": "python",
   "nbconvert_exporter": "python",
   "pygments_lexer": "ipython3",
   "version": "3.6.8rc1"
  }
 },
 "nbformat": 4,
 "nbformat_minor": 4
}
